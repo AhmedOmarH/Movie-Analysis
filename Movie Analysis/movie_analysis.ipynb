{
 "cells": [
  {
   "cell_type": "code",
   "execution_count": null,
   "id": "67bd7c0a",
   "metadata": {},
   "outputs": [],
   "source": [
    "import kagglehub\n",
    "import pandas as pd\n",
    "import numpy as np\n",
    "import seaborn as sns\n",
    "import ast\n",
    "from sklearn.preprocessing import MinMaxScaler\n",
    "import matplotlib.pyplot as plt\n",
    "\n",
    "# Download latest version\n",
    "path = kagglehub.dataset_download(\"tmdb/tmdb-movie-metadata\")\n",
    "\n",
    "print(\"Path to dataset files:\", path)"
   ]
  },
  {
   "cell_type": "code",
   "execution_count": null,
   "id": "55f29572",
   "metadata": {},
   "outputs": [],
   "source": [
    "raw_csv_movies = pd.read_csv(path + \"/tmdb_5000_movies.csv\")\n",
    "raw_csv_credits = pd.read_csv(path + \"/tmdb_5000_credits.csv\")"
   ]
  },
  {
   "cell_type": "code",
   "execution_count": null,
   "id": "c4e39c48",
   "metadata": {},
   "outputs": [],
   "source": [
    "raw_csv_movies"
   ]
  },
  {
   "cell_type": "code",
   "execution_count": null,
   "id": "ce3df81d",
   "metadata": {},
   "outputs": [],
   "source": [
    "raw_csv_credits"
   ]
  },
  {
   "cell_type": "code",
   "execution_count": null,
   "id": "af7c2f92",
   "metadata": {},
   "outputs": [],
   "source": [
    "df_movies = raw_csv_movies.copy()\n",
    "df_credits = raw_csv_credits.copy()"
   ]
  },
  {
   "cell_type": "code",
   "execution_count": null,
   "id": "9276d32f",
   "metadata": {},
   "outputs": [],
   "source": [
    "df_movies.info()"
   ]
  },
  {
   "cell_type": "code",
   "execution_count": null,
   "id": "5371f892",
   "metadata": {},
   "outputs": [],
   "source": [
    "df_credits.info()"
   ]
  },
  {
   "cell_type": "code",
   "execution_count": null,
   "id": "00ec0a09",
   "metadata": {},
   "outputs": [],
   "source": [
    "missing_revenue = df_movies['revenue'].isna().sum()\n",
    "missing_budget = df_movies['budget'].isna().sum()\n",
    "missing_runtime = df_movies['runtime'].isna().sum()"
   ]
  },
  {
   "cell_type": "code",
   "execution_count": null,
   "id": "acb5b739",
   "metadata": {},
   "outputs": [],
   "source": [
    "missing_revenue, missing_budget, missing_runtime"
   ]
  },
  {
   "cell_type": "code",
   "execution_count": null,
   "id": "2847c3ff",
   "metadata": {},
   "outputs": [],
   "source": [
    "invalid_mask = (\n",
    "    df_movies['revenue'].isna() | \n",
    "    (df_movies['revenue'] == 0) | \n",
    "    df_movies['budget'].isna() | \n",
    "    (df_movies['budget'] == 0)\n",
    ")"
   ]
  },
  {
   "cell_type": "code",
   "execution_count": null,
   "id": "b6296555",
   "metadata": {},
   "outputs": [],
   "source": [
    "clean_df = df_movies[~invalid_mask].copy()\n",
    "clean_df.reset_index(drop=True, inplace=True)"
   ]
  },
  {
   "cell_type": "code",
   "execution_count": null,
   "id": "5dfbc3c1",
   "metadata": {},
   "outputs": [],
   "source": [
    "clean_df"
   ]
  },
  {
   "cell_type": "code",
   "execution_count": null,
   "id": "8fef035a",
   "metadata": {},
   "outputs": [],
   "source": [
    "valid_runtimes = clean_df.loc[(clean_df['runtime'].notna()) & (clean_df['runtime'] > 0), 'runtime']\n",
    "runtime_median = valid_runtimes.median()"
   ]
  },
  {
   "cell_type": "code",
   "execution_count": null,
   "id": "c7475674",
   "metadata": {},
   "outputs": [],
   "source": [
    "runtime_median"
   ]
  },
  {
   "cell_type": "code",
   "execution_count": null,
   "id": "6e7808c9",
   "metadata": {},
   "outputs": [],
   "source": [
    "clean_df['runtime'] = np.where(\n",
    "    (clean_df['runtime'].isna()) | (clean_df['runtime'] == 0),  # Condition\n",
    "    runtime_median,                                  # Value if true\n",
    "    clean_df['runtime']                                    # Value if false\n",
    ")"
   ]
  },
  {
   "cell_type": "code",
   "execution_count": null,
   "id": "ff2bc0fe",
   "metadata": {},
   "outputs": [],
   "source": [
    "clean_df['runtime'] = clean_df['runtime'].astype(int)"
   ]
  },
  {
   "cell_type": "code",
   "execution_count": null,
   "id": "29a082b9",
   "metadata": {},
   "outputs": [],
   "source": [
    "print(\"Original date format and examples:\")\n",
    "print(f\"Data type: {clean_df['release_date'].dtype}\")\n",
    "print(\"Sample dates before conversion:\")\n",
    "print(clean_df['release_date'].sample(5).to_string(index=False))"
   ]
  },
  {
   "cell_type": "code",
   "execution_count": null,
   "id": "30a5780b",
   "metadata": {},
   "outputs": [],
   "source": [
    "date_df = clean_df.copy()"
   ]
  },
  {
   "cell_type": "code",
   "execution_count": null,
   "id": "53dd0368",
   "metadata": {},
   "outputs": [],
   "source": [
    "print(\"Original date format and examples:\")\n",
    "print(f\"Data type: {date_df['release_date'].dtype}\")\n",
    "print(\"Sample dates before conversion:\")\n",
    "print(date_df['release_date'].sample(5).to_string(index=False))"
   ]
  },
  {
   "cell_type": "code",
   "execution_count": null,
   "id": "de9a8620",
   "metadata": {},
   "outputs": [],
   "source": [
    "date_df['release_date'] = pd.to_datetime(\n",
    "    date_df['release_date'],\n",
    "    yearfirst=True,  # Specify if year is first in the format\n",
    ")"
   ]
  },
  {
   "cell_type": "code",
   "execution_count": null,
   "id": "79c6ad91",
   "metadata": {},
   "outputs": [],
   "source": [
    "print(\"\\nAfter conversion:\")\n",
    "print(f\"New data type: {date_df['release_date'].dtype}\")\n",
    "print(f\"Missing/invalid dates: {date_df['release_date'].isna().sum()}\")\n",
    "date_df"
   ]
  },
  {
   "cell_type": "code",
   "execution_count": null,
   "id": "8fa13b50",
   "metadata": {},
   "outputs": [],
   "source": [
    "date_df.info()"
   ]
  },
  {
   "cell_type": "code",
   "execution_count": null,
   "id": "61ad98b9",
   "metadata": {},
   "outputs": [],
   "source": [
    "movie_genres = date_df['genres']"
   ]
  },
  {
   "cell_type": "code",
   "execution_count": null,
   "id": "c469e8c2",
   "metadata": {},
   "outputs": [],
   "source": [
    "movie_genres"
   ]
  },
  {
   "cell_type": "code",
   "execution_count": null,
   "id": "ccea9232",
   "metadata": {},
   "outputs": [],
   "source": [
    "# Extract genre names from the movie_genres column\n",
    "movie_genre_names = []\n",
    "for genres in movie_genres:\n",
    "    genre_list = ast.literal_eval(genres)  # Convert string representation of list to actual list\n",
    "    movie_genre_names.extend([genre['name'] for genre in genre_list])\n",
    "\n",
    "# Remove duplicates and sort the list\n",
    "movie_genre_names = sorted(set(movie_genre_names))\n",
    "movie_genre_names"
   ]
  },
  {
   "cell_type": "code",
   "execution_count": null,
   "id": "b09ad9c6",
   "metadata": {},
   "outputs": [],
   "source": [
    "dublicate_movies = date_df.copy()"
   ]
  },
  {
   "cell_type": "code",
   "execution_count": null,
   "id": "44550353",
   "metadata": {},
   "outputs": [],
   "source": [
    "dublicate_movies"
   ]
  },
  {
   "cell_type": "code",
   "execution_count": null,
   "id": "37c34c79",
   "metadata": {},
   "outputs": [],
   "source": [
    "duplicates_mask = dublicate_movies.duplicated(subset=['title'], keep=False)\n",
    "duplicate_titles = dublicate_movies[duplicates_mask].sort_values('title')"
   ]
  },
  {
   "cell_type": "code",
   "execution_count": null,
   "id": "f6e3992b",
   "metadata": {},
   "outputs": [],
   "source": [
    "print(f\"Found {len(duplicate_titles)} potential duplicates\")\n",
    "print(duplicate_titles[['title', 'release_date', 'id']].head(10))\n"
   ]
  },
  {
   "cell_type": "code",
   "execution_count": null,
   "id": "cc2950b7",
   "metadata": {},
   "outputs": [],
   "source": [
    "duplicate_years = duplicate_titles.groupby('title')['release_date'].nunique()"
   ]
  },
  {
   "cell_type": "code",
   "execution_count": null,
   "id": "f4fc6ec7",
   "metadata": {},
   "outputs": [],
   "source": [
    "print(\"Titles with multiple release years:\")\n",
    "print(duplicate_years[duplicate_years > 1])"
   ]
  },
  {
   "cell_type": "code",
   "execution_count": null,
   "id": "2e823855",
   "metadata": {},
   "outputs": [],
   "source": [
    "dublicate_movies['profit'] = dublicate_movies['revenue'] - dublicate_movies['budget']\n",
    "dublicate_movies['ROI'] = (dublicate_movies['profit']/dublicate_movies['budget'].replace(np.inf, np.nan))"
   ]
  },
  {
   "cell_type": "code",
   "execution_count": null,
   "id": "5d3d405e",
   "metadata": {},
   "outputs": [],
   "source": [
    "dublicate_movies"
   ]
  },
  {
   "cell_type": "code",
   "execution_count": null,
   "id": "4bb2a34d",
   "metadata": {},
   "outputs": [],
   "source": [
    "dublicate_movies['release_season'] = dublicate_movies['release_date'].dt.month.apply(\n",
    "    lambda x: 'Winter' if x <= 2 else \n",
    "             'Spring' if x <= 5 else \n",
    "             'Summer' if x <= 8 else \n",
    "             'Fall'\n",
    ")"
   ]
  },
  {
   "cell_type": "code",
   "execution_count": null,
   "id": "4c47fc9f",
   "metadata": {},
   "outputs": [],
   "source": [
    "dublicate_movies"
   ]
  },
  {
   "cell_type": "code",
   "execution_count": null,
   "id": "ef04c3e5",
   "metadata": {},
   "outputs": [],
   "source": [
    "df_preprosessed = dublicate_movies.copy()"
   ]
  },
  {
   "cell_type": "code",
   "execution_count": null,
   "id": "854fdb57",
   "metadata": {},
   "outputs": [],
   "source": [
    "df_preprosessed"
   ]
  },
  {
   "cell_type": "code",
   "execution_count": null,
   "id": "a8bea909",
   "metadata": {},
   "outputs": [],
   "source": [
    "# Extract genre names for each movie\n",
    "df_preprosessed['genres_list'] = df_preprosessed['genres'].apply(lambda x: [genre['name'] for genre in ast.literal_eval(x)])\n",
    "\n",
    "# Perform one-hot encoding\n",
    "genres_one_hot = df_preprosessed['genres_list'].explode().str.get_dummies().groupby(level=0).sum()\n",
    "\n",
    "# Add the one-hot encoded genres back to the original DataFrame\n",
    "df_preprosessed = pd.concat([df_preprosessed, genres_one_hot], axis=1)\n",
    "\n",
    "df_preprosessed.head()"
   ]
  },
  {
   "cell_type": "code",
   "execution_count": null,
   "id": "e5144e19",
   "metadata": {},
   "outputs": [],
   "source": [
    "scaler = MinMaxScaler()\n",
    "df_preprosessed[['budget_scaled', 'revenue_scaled']] = scaler.fit_transform(df_preprosessed[['budget', 'revenue']])"
   ]
  },
  {
   "cell_type": "code",
   "execution_count": null,
   "id": "9774eb9e",
   "metadata": {},
   "outputs": [],
   "source": [
    "df_preprosessed"
   ]
  },
  {
   "cell_type": "code",
   "execution_count": null,
   "id": "69af4831",
   "metadata": {},
   "outputs": [],
   "source": [
    "df_preprosessed.to_csv(path + \"/tmdb_preprocessed.csv\", sep=\",\", index=False)"
   ]
  },
  {
   "cell_type": "code",
   "execution_count": null,
   "id": "a808004b",
   "metadata": {},
   "outputs": [],
   "source": [
    "# Basic info\n",
    "print(f\"Total movies: {len(df_preprosessed)}\")\n",
    "print(f\"Columns: {df_preprosessed.columns.tolist()}\")\n",
    "\n",
    "# Summary stats for numerical columns\n",
    "print(\"\\nSummary Statistics:\")\n",
    "print(df_preprosessed[['budget', 'revenue', 'runtime', 'vote_average']].describe())"
   ]
  },
  {
   "cell_type": "code",
   "execution_count": null,
   "id": "1c99dd51",
   "metadata": {},
   "outputs": [],
   "source": [
    "plt.figure(figsize=(10, 5))\n",
    "plt.hist(df_preprosessed['budget'], bins=30, edgecolor='black')\n",
    "plt.title(\"Distribution of Movie Budgets\")\n",
    "plt.xlabel(\"Budget (in $100 millions)\")\n",
    "plt.ylabel(\"Number of Movies\")\n",
    "plt.show()"
   ]
  },
  {
   "cell_type": "code",
   "execution_count": null,
   "id": "2c2e262c",
   "metadata": {},
   "outputs": [],
   "source": [
    "# Sum all genre columns (Action, Adventure, etc.)\n",
    "genre_counts = df_preprosessed[movie_genre_names].sum().sort_values()\n",
    "\n",
    "# Plot\n",
    "plt.figure(figsize=(10, 6))\n",
    "genre_counts.plot(kind='barh')\n",
    "plt.title(\"Most Common Movie Genres\")\n",
    "plt.xlabel(\"Number of Movies\")\n",
    "plt.show()"
   ]
  },
  {
   "cell_type": "code",
   "execution_count": null,
   "id": "03897aca",
   "metadata": {},
   "outputs": [],
   "source": [
    "plt.figure(figsize=(10, 6))\n",
    "plt.scatter(df_preprosessed['budget'], df_preprosessed['revenue'], alpha=0.5)\n",
    "plt.title(\"Budget vs. Revenue\")\n",
    "plt.xlabel(\"Budget\")\n",
    "plt.ylabel(\"Revenue\")\n",
    "plt.show()"
   ]
  },
  {
   "cell_type": "code",
   "execution_count": null,
   "id": "aadd3fd5",
   "metadata": {},
   "outputs": [],
   "source": [
    "plt.figure(figsize=(15, 6))\n",
    "sns.boxplot(data=df_preprosessed, x='vote_average', y='profit', hue='release_season')\n",
    "plt.xticks(rotation=90)\n",
    "plt.title(\"Profit by Movie Rating and Release Season\")\n",
    "plt.show()"
   ]
  },
  {
   "cell_type": "code",
   "execution_count": null,
   "id": "29cade30",
   "metadata": {},
   "outputs": [],
   "source": [
    "plt.figure(figsize=(10, 6))\n",
    "sns.lineplot(data=df_preprosessed, x='release_date', y='runtime')\n",
    "plt.title(\"Average Runtime Over Time\")\n",
    "plt.show()"
   ]
  },
  {
   "cell_type": "code",
   "execution_count": null,
   "id": "666e3db9",
   "metadata": {},
   "outputs": [],
   "source": [
    "# Movies with extreme ROI\n",
    "weird_movies = df_preprosessed[(df_preprosessed['ROI'] > 10) | (df_preprosessed['ROI'] < -0.5)]\n",
    "print(\"Movies with unusual ROI:\")\n",
    "print(weird_movies[['title', 'budget', 'revenue', 'ROI']])"
   ]
  },
  {
   "cell_type": "code",
   "execution_count": null,
   "id": "0f0905cf",
   "metadata": {},
   "outputs": [],
   "source": [
    "corr_matrix = df_preprosessed[['budget', 'revenue', 'runtime', 'vote_average', 'profit']].corr()\n",
    "\n",
    "plt.figure(figsize=(8, 6))\n",
    "sns.heatmap(corr_matrix, annot=True, cmap='coolwarm')\n",
    "plt.title(\"Correlation Matrix\")\n",
    "plt.show()"
   ]
  },
  {
   "cell_type": "code",
   "execution_count": null,
   "id": "671d92af",
   "metadata": {},
   "outputs": [],
   "source": [
    "season_profit = df_preprosessed.groupby('release_season')['profit'].mean().sort_values()\n",
    "\n",
    "plt.figure(figsize=(10, 6))\n",
    "season_profit.plot(kind='bar')\n",
    "plt.title(\"Average Profit by Release Season\")\n",
    "plt.ylabel(\"Profit (in billions)\")\n",
    "plt.show()"
   ]
  },
  {
   "cell_type": "code",
   "execution_count": null,
   "id": "4ccd4b2e",
   "metadata": {},
   "outputs": [],
   "source": [
    "# Calculate average profit per genre\n",
    "genre_profit = {}\n",
    "for genre in movie_genre_names:\n",
    "    genre_profit[genre] = df_preprosessed[df_preprosessed[genre] == 1]['profit'].mean()\n",
    "\n",
    "# Convert to pandas Series and sort\n",
    "genre_profit = pd.Series(genre_profit).sort_values()\n",
    "\n",
    "# Plot\n",
    "plt.figure(figsize=(12, 8))\n",
    "genre_profit.plot(kind='barh', color='darkcyan')\n",
    "plt.title(\"Average Profit by Genre\", fontsize=14)\n",
    "plt.xlabel(\"Average Profit (in $ billions)\", fontsize=12)\n",
    "plt.ylabel(\"Genre\", fontsize=12)\n",
    "plt.grid(axis='x', linestyle='--', alpha=0.7)\n",
    "plt.show()"
   ]
  }
 ],
 "metadata": {
  "kernelspec": {
   "display_name": "base",
   "language": "python",
   "name": "python3"
  },
  "language_info": {
   "codemirror_mode": {
    "name": "ipython",
    "version": 3
   },
   "file_extension": ".py",
   "mimetype": "text/x-python",
   "name": "python",
   "nbconvert_exporter": "python",
   "pygments_lexer": "ipython3",
   "version": "3.12.7"
  }
 },
 "nbformat": 4,
 "nbformat_minor": 5
}
